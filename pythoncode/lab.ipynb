{
 "cells": [
  {
   "cell_type": "code",
   "execution_count": null,
   "id": "9415e030",
   "metadata": {},
   "outputs": [],
   "source": [
    "import numpy as np\n",
    "import pandas as pd\n",
    "import Logistic"
   ]
  },
  {
   "cell_type": "code",
   "execution_count": null,
   "id": "35a6d1fa",
   "metadata": {},
   "outputs": [],
   "source": [
    "model = Logistic.LogisticRegression(2)"
   ]
  },
  {
   "cell_type": "code",
   "execution_count": null,
   "id": "3a0d0257",
   "metadata": {},
   "outputs": [],
   "source": [
    "X = np.load(\"../data/1m_100/X_1m_100.npy\").tolist()\n",
    "y = np.load(\"../data/1m_100/y_1m_100.npy\").tolist()"
   ]
  },
  {
   "cell_type": "code",
   "execution_count": null,
   "id": "1a9f620d",
   "metadata": {},
   "outputs": [],
   "source": [
    "model.fit(X, y)"
   ]
  },
  {
   "cell_type": "code",
   "execution_count": null,
   "id": "53129683",
   "metadata": {},
   "outputs": [],
   "source": [
    "def np2csv(X_path, y_path, file_path):\n",
    "    X:np.ndarray = np.load(X_path)\n",
    "    y:np.ndarray = np.load(y_path)\n",
    "    df = pd.DataFrame(X)\n",
    "    df.columns = [f'X{i+1}' for i in range(df.shape[1])]\n",
    "    df[\"y\"] = y.astype(int)\n",
    "    \n",
    "    df.to_csv(file_path, index=False)\n",
    "    return df"
   ]
  },
  {
   "cell_type": "code",
   "execution_count": null,
   "id": "3102d62c",
   "metadata": {},
   "outputs": [],
   "source": [
    "df_1m_100 = np2csv(\n",
    "    \"data/1m_100/X_1m_100.npy\",\n",
    "    \"data/1m_100/y_1m_100.npy\",\n",
    "    \"data/1m_100/data_1m_100.csv\",\n",
    "    )"
   ]
  },
  {
   "cell_type": "code",
   "execution_count": null,
   "id": "5ae4c3d3",
   "metadata": {},
   "outputs": [],
   "source": [
    "df_10k_10k = np2csv(\n",
    "    \"data/10k_10k/X_10k_10k.npy\",\n",
    "    \"data/10k_10k/y_10k_10k.npy\",\n",
    "    \"data/10k_10k/data_10k_10k.csv\",\n",
    "    )"
   ]
  },
  {
   "cell_type": "code",
   "execution_count": null,
   "id": "9d6dfa8d",
   "metadata": {},
   "outputs": [],
   "source": [
    "df_100k_1k = np2csv(\n",
    "    \"data/100k_1k/X_100k_1k.npy\",\n",
    "    \"data/100k_1k/y_100k_1k.npy\",\n",
    "    \"data/100k_1k/data_100k_1k.csv\",\n",
    "    )"
   ]
  }
 ],
 "metadata": {
  "kernelspec": {
   "display_name": "Python 3",
   "language": "python",
   "name": "python3"
  },
  "language_info": {
   "codemirror_mode": {
    "name": "ipython",
    "version": 3
   },
   "file_extension": ".py",
   "mimetype": "text/x-python",
   "name": "python",
   "nbconvert_exporter": "python",
   "pygments_lexer": "ipython3",
   "version": "3.11.0"
  }
 },
 "nbformat": 4,
 "nbformat_minor": 5
}
